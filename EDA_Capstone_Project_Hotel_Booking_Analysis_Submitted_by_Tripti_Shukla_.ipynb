{
  "nbformat": 4,
  "nbformat_minor": 0,
  "metadata": {
    "colab": {
      "private_outputs": true,
      "provenance": [],
      "collapsed_sections": [
        "vncDsAP0Gaoa",
        "FJNUwmbgGyua",
        "w6K7xa23Elo4",
        "mDgbUHAGgjLW",
        "EXh0U9oCveiU",
        "22aHeOlLveiV"
      ],
      "include_colab_link": true
    },
    "kernelspec": {
      "name": "python3",
      "display_name": "Python 3"
    },
    "language_info": {
      "name": "python"
    }
  },
  "cells": [
    {
      "cell_type": "markdown",
      "metadata": {
        "id": "view-in-github",
        "colab_type": "text"
      },
      "source": [
        "<a href=\"https://colab.research.google.com/github/Triptishukla292/hotelbooking-Analysis-/blob/main/EDA_Capstone_Project_Hotel_Booking_Analysis_Submitted_by_Tripti_Shukla_.ipynb\" target=\"_parent\"><img src=\"https://colab.research.google.com/assets/colab-badge.svg\" alt=\"Open In Colab\"/></a>"
      ]
    },
    {
      "cell_type": "markdown",
      "source": [
        "### **Project Name**    -"
      ],
      "metadata": {
        "id": "vncDsAP0Gaoa"
      }
    },
    {
      "cell_type": "markdown",
      "source": [
        "**Hotel Booking Analysis**\n",
        "# ![images.jpg](data:image/jpeg;base64,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)\n",
        "\n"
      ],
      "metadata": {
        "id": "5wUcRXGLgGLT"
      }
    },
    {
      "cell_type": "markdown",
      "source": [
        "##### **Project Type**    - EDA\n",
        "##### **Contribution**    - Individual\n",
        "##### **Team Member 1 -**Tripti Shukla\n"
      ],
      "metadata": {
        "id": "beRrZCGUAJYm"
      }
    },
    {
      "cell_type": "markdown",
      "source": [
        "# **Project Summary -**"
      ],
      "metadata": {
        "id": "FJNUwmbgGyua"
      }
    },
    {
      "cell_type": "markdown",
      "source": [
        "# **Hotel Booking Analysis**\n",
        "This data set contains booking information for  city hotel and  resort hotel and includes information such as when the booking was made, length of stay, the number of adults, children, and/or babies, and the number of available parking spaces, among other things. All personally identifying information has from the data.\n",
        "\n",
        "We will perform exploratory data analysis with python to get insight from the data.our project helps to understand important factor of hotel like types of meal ,types of deposite payment in diiffrent online mode , how many cuntries visited in hotel ...and find out the average daily rating on the basis of different categories ...ther are 119390 rows and 32 columns available in this dataset.This data set is given from 2015 to 2017.\n",
        "\n",
        "Exploratory Data Analysis- Exploratory data analysis (EDA) is used by data scientists to analyze and investigate data sets and summarize their main characteristics, often employing data visualization methods.There are three types of analytics that businesses use to drive their decision making :\n",
        "\n",
        "Descriptive Analytics- which tell us what has already happened.\n",
        "\n",
        "Predictive Analytics- which show us what could happen, and finally.\n",
        "\n",
        "Prescriptive Analytics, which inform us what should happen in the future.\n",
        "\n",
        "\n"
      ],
      "metadata": {
        "id": "F6v_1wHtG2nS"
      }
    },
    {
      "cell_type": "markdown",
      "source": [
        "# **GitHub Link -**\n"
      ],
      "metadata": {
        "id": "w6K7xa23Elo4"
      }
    },
    {
      "cell_type": "markdown",
      "source": [
        "https://github.com/Triptishukla292/hotel-booking/blob/main/EDA_Capstone_Project_Hotel_Booking_Analysis_Submitted_by_Tripti_Shukla_.ipynb"
      ],
      "metadata": {
        "id": "h1o69JH3Eqqn"
      }
    },
    {
      "cell_type": "markdown",
      "source": [
        "# **Problem Statement**\n"
      ],
      "metadata": {
        "id": "yQaldy8SH6Dl"
      }
    },
    {
      "cell_type": "markdown",
      "source": [
        "There are so many problem in data set when we start the analysis .. i am facing some problems like same series are mention in different series but we need only common series, there are lots of data we can not find exact value so we can start the analysis that can helps to explore the data set   "
      ],
      "metadata": {
        "id": "DpeJGUA3kjGy"
      }
    },
    {
      "cell_type": "markdown",
      "source": [
        "#### **Define Your Business Objective?**"
      ],
      "metadata": {
        "id": "PH-0ReGfmX4f"
      }
    },
    {
      "cell_type": "markdown",
      "source": [
        "Business objectives are a written explanation of your goals as a business. Business objectives usually have to do with the most important operating factors of a company's success, such as booking, cancellations, rating and growth. To be most successful, some companies find that a business objective needs to be specific, measurable, attainable and time-based. Large and small businesses alike might find value in developing written business objectives"
      ],
      "metadata": {
        "id": "PhDvGCAqmjP1"
      }
    },
    {
      "cell_type": "markdown",
      "source": [
        "# **General Guidelines** : -  "
      ],
      "metadata": {
        "id": "mDgbUHAGgjLW"
      }
    },
    {
      "cell_type": "markdown",
      "source": [
        "1.   Well-structured, formatted, and commented code is required.\n",
        "2.   Exception Handling, Production Grade Code & Deployment Ready Code will be a plus. Those students will be awarded some additional credits.\n",
        "     \n",
        "     The additional credits will have advantages over other students during Star Student selection.\n",
        "       \n",
        "             [ Note: - Deployment Ready Code is defined as, the whole .ipynb notebook should be executable in one go\n",
        "                       without a single error logged. ]\n",
        "\n",
        "3.   Each and every logic should have proper comments.\n",
        "4. You may add as many number of charts you want. Make Sure for each and every chart the following format should be answered.\n",
        "        \n",
        "\n",
        "```\n",
        "# Chart visualization code\n",
        "```\n",
        "            \n",
        "\n",
        "*   Why did you pick the specific chart?\n",
        "*   What is/are the insight(s) found from the chart?\n",
        "* Will the gained insights help creating a positive business impact?\n",
        "Are there any insights that lead to negative growth? Justify with specific reason.\n",
        "\n",
        "5. You have to create at least 20 logical & meaningful charts having important insights.\n",
        "\n",
        "\n",
        "[ Hints : - Do the Vizualization in  a structured way while following \"UBM\" Rule.\n",
        "\n",
        "U - Univariate Analysis,\n",
        "\n",
        "B - Bivariate Analysis (Numerical - Categorical, Numerical - Numerical, Categorical - Categorical)\n",
        "\n",
        "M - Multivariate Analysis\n",
        " ]\n",
        "\n",
        "\n",
        "\n"
      ],
      "metadata": {
        "id": "ZrxVaUj-hHfC"
      }
    },
    {
      "cell_type": "markdown",
      "source": [
        "# ***Let's Begin !***"
      ],
      "metadata": {
        "id": "O_i_v8NEhb9l"
      }
    },
    {
      "cell_type": "markdown",
      "source": [
        "## ***1. Know Your Data***"
      ],
      "metadata": {
        "id": "HhfV-JJviCcP"
      }
    },
    {
      "cell_type": "markdown",
      "source": [
        "### Import Libraries"
      ],
      "metadata": {
        "id": "Y3lxredqlCYt"
      }
    },
    {
      "cell_type": "code",
      "source": [
        "# Import Libraries\n",
        "#its used for manipulation ,data loading ,missing data handling\n",
        "import pandas as pd\n",
        "#it is used to implememnting  mathematical algorithm\n",
        "import numpy as np\n",
        "#these are used for visualiztion\n",
        "import matplotlib.pyplot as plt\n",
        "import seaborn as sns"
      ],
      "metadata": {
        "id": "M8Vqi-pPk-HR"
      },
      "execution_count": null,
      "outputs": []
    },
    {
      "cell_type": "markdown",
      "source": [
        "### Dataset Loading"
      ],
      "metadata": {
        "id": "3RnN4peoiCZX"
      }
    },
    {
      "cell_type": "code",
      "source": [
        "# Load Dataset fro, our google drive\n",
        "from google.colab import drive\n",
        "drive.mount('/content/drive')"
      ],
      "metadata": {
        "id": "4CkvbW_SlZ_R"
      },
      "execution_count": null,
      "outputs": []
    },
    {
      "cell_type": "code",
      "source": [
        "# we mention the path , read the csv file by using pandas libraries and save the data set name as hotel_df\n",
        "filepath=('/content/drive/MyDrive/almabetter related files/Hotel Bookings.csv')\n",
        "hotel_df=pd.read_csv(filepath)"
      ],
      "metadata": {
        "id": "nNhAmCSn6jiX"
      },
      "execution_count": null,
      "outputs": []
    },
    {
      "cell_type": "markdown",
      "source": [
        "### Dataset First View"
      ],
      "metadata": {
        "id": "x71ZqKXriCWQ"
      }
    },
    {
      "cell_type": "code",
      "source": [
        "# Dataset First Look\n",
        "# it display by default 5 rows\n",
        "hotel_df.head()"
      ],
      "metadata": {
        "id": "LWNFOSvLl09H"
      },
      "execution_count": null,
      "outputs": []
    },
    {
      "cell_type": "code",
      "source": [
        "#it display by default last 5 rows from the dataset\n",
        "hotel_df.tail()"
      ],
      "metadata": {
        "id": "qt8BKVV6CmNN"
      },
      "execution_count": null,
      "outputs": []
    },
    {
      "cell_type": "markdown",
      "source": [
        "### Dataset Rows & Columns count"
      ],
      "metadata": {
        "id": "7hBIi_osiCS2"
      }
    },
    {
      "cell_type": "code",
      "source": [
        "# Dataset Rows & Columns count\n",
        "hotel_df.shape\n",
        "print(\"the number of rows :\",hotel_df.shape[0])\n",
        "print(\"the number of columns :\",hotel_df.shape[1])"
      ],
      "metadata": {
        "id": "Kllu7SJgmLij"
      },
      "execution_count": null,
      "outputs": []
    },
    {
      "cell_type": "markdown",
      "source": [
        "### Dataset Information"
      ],
      "metadata": {
        "id": "JlHwYmJAmNHm"
      }
    },
    {
      "cell_type": "code",
      "source": [
        "# Dataset Info\n",
        "hotel_df.info()"
      ],
      "metadata": {
        "id": "e9hRXRi6meOf"
      },
      "execution_count": null,
      "outputs": []
    },
    {
      "cell_type": "markdown",
      "source": [
        "#### Duplicate Values"
      ],
      "metadata": {
        "id": "35m5QtbWiB9F"
      }
    },
    {
      "cell_type": "code",
      "source": [
        "# Dataset Duplicate Value Count\n",
        "hotel_df.duplicated().value_counts() # true means duplicate values"
      ],
      "metadata": {
        "id": "1sLdpKYkmox0"
      },
      "execution_count": null,
      "outputs": []
    },
    {
      "cell_type": "code",
      "source": [
        "# Remove duplicates rows and series\n",
        "hotel_df.drop_duplicates(inplace=True)"
      ],
      "metadata": {
        "id": "-tsuJMHVKRDP"
      },
      "execution_count": null,
      "outputs": []
    },
    {
      "cell_type": "code",
      "source": [
        "#there are no duplicates row avialable in dataset\n",
        "hotel_df[hotel_df.duplicated()].shape"
      ],
      "metadata": {
        "id": "vgPrO3P4KRZO"
      },
      "execution_count": null,
      "outputs": []
    },
    {
      "cell_type": "markdown",
      "source": [
        "#### Missing Values/Null Values"
      ],
      "metadata": {
        "id": "PoPl-ycgm1ru"
      }
    },
    {
      "cell_type": "code",
      "source": [
        "# Missing Values/Null Values Count\n",
        "print(hotel_df.isnull().sum().sort_values(ascending=False)[:6]) #checking for null values"
      ],
      "metadata": {
        "id": "GgHWkxvamxVg"
      },
      "execution_count": null,
      "outputs": []
    },
    {
      "cell_type": "code",
      "source": [
        "#analysis on all dataset null values ..true means null value present in this column\n",
        "hotel_df.isna().any()"
      ],
      "metadata": {
        "id": "b4puOwSxKmNO"
      },
      "execution_count": null,
      "outputs": []
    },
    {
      "cell_type": "code",
      "source": [
        "# fill the null value column ...with zero value\n",
        "hotel_df['company'].fillna(0,inplace=True)\n",
        "hotel_df['agent'].fillna(0,inplace=True)\n",
        "hotel_df['country'].fillna(0,inplace=True)\n",
        "hotel_df['children'].fillna(0,inplace=True)\n"
      ],
      "metadata": {
        "id": "pzTBAw3VJxnF"
      },
      "execution_count": null,
      "outputs": []
    },
    {
      "cell_type": "code",
      "source": [
        "# NO null value present in dataset\n",
        "hotel_df.isna().any()"
      ],
      "metadata": {
        "id": "FKdR3-RfEdDX"
      },
      "execution_count": null,
      "outputs": []
    },
    {
      "cell_type": "markdown",
      "source": [
        "### What did you know about your dataset?"
      ],
      "metadata": {
        "id": "H0kj-8xxnORC"
      }
    },
    {
      "cell_type": "markdown",
      "source": [
        "This dataset collect from online booking hotel websites ....that shows many neccessray series that are requrie when we book the hotel ...we need so many things like ...total pepole , deposite method , agent , cancellation process etc ..... the main goal is to understand and take the steps to change the coustomer choices.\n",
        "The above dataset there are 119390 rows and 32 columns and no null values in my data set  "
      ],
      "metadata": {
        "id": "gfoNAAC-nUe_"
      }
    },
    {
      "cell_type": "markdown",
      "source": [
        "## ***2. Understanding Your Variables***"
      ],
      "metadata": {
        "id": "nA9Y7ga8ng1Z"
      }
    },
    {
      "cell_type": "code",
      "source": [
        "# Dataset Columns\n",
        "hotel_df.columns"
      ],
      "metadata": {
        "id": "j7xfkqrt5Ag5"
      },
      "execution_count": null,
      "outputs": []
    },
    {
      "cell_type": "code",
      "source": [
        "# Dataset Describe\n",
        "hotel_df.describe(include='all')"
      ],
      "metadata": {
        "id": "DnOaZdaE5Q5t"
      },
      "execution_count": null,
      "outputs": []
    },
    {
      "cell_type": "markdown",
      "source": [
        "### Variables Description"
      ],
      "metadata": {
        "id": "PBTbrJXOngz2"
      }
    },
    {
      "cell_type": "markdown",
      "source": [
        "Answer Here\n",
        "*   hotel: Name of hotel(categorical )\n",
        "*   is_canceled:the booking is canceled or not (0 for no canceled and 1 for canceled) (Numerical)\n",
        "*   arrival_date_year: Year of arrival\n",
        "- arrival_date_month: month of arrival\n",
        "- arrival_date_week_number: week number of arrival date.\n",
        "- arrival_date_day_of_month: Day of month of arrival date\n",
        "- stays_in_weekend_nights: No. of weekend nights spent in a hotel\n",
        "- stays_in_week_nights: No. of weeknights spent in a hotel\n",
        "- adults: No. of adults in single booking record.\n",
        "- children: No. of children in single booking record.\n",
        "- babies: No. of babies in single booking record.\n",
        "- meal: Type of meal chosen\n",
        "* country: Country of origin of customers (as mentioned by them)\n",
        "- market_segment: What segment via booking was made and for what purpose.\n",
        "- distribution_channel: Via which medium booking was made.\n",
        "- is_repeated_guest: Whether the customer has made any booking before(0 for No and 1 for Yes)\n",
        "- previous_cancellations: No. of previous canceled bookings.\n",
        "- previous_bookings_not_canceled: No. of previous non-canceled bookings.\n",
        "- reserved_room_type: Room type reserved by a customer.\n",
        "- assigned_room_type: Room type assigned to the customer.\n",
        "- booking_changes: No. of booking changes done by customers\n",
        "- deposit_type: Type of deposit at the time of making a booking (No deposit/ Refundable/ No refund)\n",
        "- agent: Id of agent for booking\n",
        "- company: Id of the company making a booking\n",
        "- days_in_waiting_list: No. of days on waiting list.\n",
        "- customer_type: Type of customer(Transient, Group, etc.)\n",
        "- adr: Average Daily rate.\n",
        "- required_car_parking_spaces: No. of car parking asked in booking\n",
        "- total_of_special_requests: total no. of special request.\n",
        "- reservation_status: Whether a customer has checked out or canceled,or not showed\n",
        "- reservation_status_date: Date of making reservation status\n",
        "\n",
        "\n",
        "\n",
        "\n"
      ],
      "metadata": {
        "id": "aJV4KIxSnxay"
      }
    },
    {
      "cell_type": "markdown",
      "source": [
        "### Check Unique Values for each variable."
      ],
      "metadata": {
        "id": "u3PMJOP6ngxN"
      }
    },
    {
      "cell_type": "code",
      "source": [
        "# Check Unique Values for each variable.\n",
        "for i in hotel_df.columns.tolist():\n",
        "  print(\"No. of unique values in \",i,\"is\",hotel_df[i].nunique())"
      ],
      "metadata": {
        "id": "zms12Yq5n-jE"
      },
      "execution_count": null,
      "outputs": []
    },
    {
      "cell_type": "markdown",
      "source": [
        "## 3. ***Data Wrangling***"
      ],
      "metadata": {
        "id": "dauF4eBmngu3"
      }
    },
    {
      "cell_type": "markdown",
      "source": [
        "### Data Wrangling Code"
      ],
      "metadata": {
        "id": "rcJD1b0Hv7Xh"
      }
    },
    {
      "cell_type": "code",
      "source": [
        "hotel_df['hotel'].value_counts() # this show total no of hotel"
      ],
      "metadata": {
        "id": "1p2cznkcvw-A"
      },
      "execution_count": null,
      "outputs": []
    },
    {
      "cell_type": "code",
      "source": [
        "# BB: Bed & Breakfast- HB: Half Board (Breakfast and Dinner normally)- FB: Full Board (Beakfast, Lunch and Dinner)-these are different meal type that is order by guest\n",
        "hotel_df['meal'].value_counts()"
      ],
      "metadata": {
        "id": "AOpkl47YvyCf"
      },
      "execution_count": null,
      "outputs": []
    },
    {
      "cell_type": "code",
      "source": [
        "#top 5 counrty that are visited in hotels\n",
        "top_5_country=hotel_df['country'].value_counts()\n",
        "top_5_country.head(5)"
      ],
      "metadata": {
        "id": "VhUqsOX2vyTK"
      },
      "execution_count": null,
      "outputs": []
    },
    {
      "cell_type": "code",
      "source": [
        "#this shows the total no coustomer that are belongs to different market segment\n",
        "hotel_df['market_segment'].value_counts()"
      ],
      "metadata": {
        "id": "FLBHI4o63jNU"
      },
      "execution_count": null,
      "outputs": []
    },
    {
      "cell_type": "code",
      "source": [
        "#this show which mode cousmtomer accessed the stay in thses channels\n",
        "hotel_df['distribution_channel'].value_counts()"
      ],
      "metadata": {
        "id": "weHAeiyA3jb6"
      },
      "execution_count": null,
      "outputs": []
    },
    {
      "cell_type": "code",
      "source": [
        "#this dataset show--- 1 is show guest repeated and 0 shows guest not present ...so this is represent total repeat guest present or not in hotel\n",
        "repeated_guest_in_hotel=hotel_df.groupby(['hotel','is_repeated_guest'],as_index=True).agg({'is_repeated_guest':'count'}).sort_values(by='hotel',ascending=True).rename(columns={'is_repeated_guest':'count_of_guest'})\n",
        "pd.DataFrame(repeated_guest_in_hotel).reset_index()"
      ],
      "metadata": {
        "id": "W9Tu9r1R4S61"
      },
      "execution_count": null,
      "outputs": []
    },
    {
      "cell_type": "code",
      "source": [
        "#This Analysis show the previous total booking-- cancel or not... add new column and shows the fix rows that we want to shown by using loc\n",
        "hotel_df['previous_bookings']=hotel_df['previous_cancellations']+hotel_df['previous_bookings_not_canceled']\n",
        "hotel_df.loc[13813:13992,['previous_cancellations','previous_bookings_not_canceled','previous_bookings']]"
      ],
      "metadata": {
        "id": "-TMsm3OH1UJQ"
      },
      "execution_count": null,
      "outputs": []
    },
    {
      "cell_type": "code",
      "source": [
        "#this Analysis show the how many people are deposit the money or not\n",
        "hotel_df['deposit_type'].value_counts()"
      ],
      "metadata": {
        "id": "lqJoV3R91Uhx"
      },
      "execution_count": null,
      "outputs": []
    },
    {
      "cell_type": "code",
      "source": [
        "# this Analysis show which type of customer mostly visited in hotel\n",
        "hotel_df['customer_type'].value_counts()"
      ],
      "metadata": {
        "id": "V_hopoRL1U3o"
      },
      "execution_count": null,
      "outputs": []
    },
    {
      "cell_type": "code",
      "source": [
        "#This Analysis show how many people come in hotel and how many people are cancel the booking\n",
        "hotel_df['reservation_status'].value_counts()"
      ],
      "metadata": {
        "id": "Fp-3sA6LCfFX"
      },
      "execution_count": null,
      "outputs": []
    },
    {
      "cell_type": "code",
      "source": [
        "#this Analysis only total people and toatl stays weekend and days in hotel\n",
        "hotel_df['total_people']=hotel_df['children']+hotel_df['adults']+hotel_df['babies'] # we create a new column is total pepole , this column show how many pepole in one family that is stay in hotel\n",
        "hotel_df['total_stay']=hotel_df['stays_in_weekend_nights']+hotel_df['stays_in_week_nights'] # create a new column is total stay that show the total of stay in our hotel\n",
        "hotel_df.tail(5)"
      ],
      "metadata": {
        "id": "wk-9a2fpoLcV"
      },
      "execution_count": null,
      "outputs": []
    },
    {
      "cell_type": "code",
      "source": [
        "#This Analysis show the total canceled booking in  year wise\n",
        "pd.DataFrame(hotel_df.groupby('arrival_date_year')['is_canceled'].count().reset_index())"
      ],
      "metadata": {
        "id": "MQY1oqaNUa6j"
      },
      "execution_count": null,
      "outputs": []
    },
    {
      "cell_type": "code",
      "source": [
        "#this data show the total adr in month year wise ...adr stands for Average Daily rate that  it's used to measure the average revenue that a hotel receives for each occupied guest room per day\n",
        "Aversage_daily_rate= hotel_df.groupby(['arrival_date_year','arrival_date_month'], as_index=True).agg({'adr':'sum'}).sort_values(by='arrival_date_year',ascending=True)\n",
        "pd.DataFrame(Aversage_daily_rate).reset_index()"
      ],
      "metadata": {
        "id": "FpBQ2bw2UbSA"
      },
      "execution_count": null,
      "outputs": []
    },
    {
      "cell_type": "markdown",
      "source": [
        "### What all manipulations have you done and insights you found?"
      ],
      "metadata": {
        "id": "MSa1f5Uengrz"
      }
    },
    {
      "cell_type": "markdown",
      "source": [
        "Answer Here.\n",
        "According to my analysis , we will get a clear view of Data wrangling is the process of converting raw data into a usable form. It may also be called data munging or data remediation. You'll typically go through the data wrangling process prior to conducting any data analysis in order to ensure your data is reliable and complete.\n",
        "\n",
        "Our Analysis , we add some columns and explore the data with different types and coververt the data in short type dataframe that can eaily explain the process of data wrangling like ... we extract the data on the basis of yearly and month wise and we count the top values from the series\n",
        "  "
      ],
      "metadata": {
        "id": "LbyXE7I1olp8"
      }
    },
    {
      "cell_type": "markdown",
      "source": [
        "## ***4. Data Vizualization, Storytelling & Experimenting with charts : Understand the relationships between variables***"
      ],
      "metadata": {
        "id": "GF8Ens_Soomf"
      }
    },
    {
      "cell_type": "markdown",
      "source": [
        "#### Chart - 1 Ratio between hotels , Hotel cancelled or not  , Repeated guest , and Types of Customer  "
      ],
      "metadata": {
        "id": "0wOQAZs5pc--"
      }
    },
    {
      "cell_type": "code",
      "source": [
        "# Chart - 1 pie chart\n",
        "(hotel_df.groupby('hotel').size()/sum(hotel_df['hotel'].value_counts())*100).plot(kind='pie',\n",
        "                              figsize=(3,3),\n",
        "                               autopct=\"%1.1f%%\",\n",
        "                               startangle=90,\n",
        "                               shadow=True,\n",
        "                               labels=['city','resort'],\n",
        "                               colors=['orange','green'],\n",
        "                               explode=[0,.1]\n",
        "                              )\n",
        "plt.title(\"Ratio Of Hotel\")\n"
      ],
      "metadata": {
        "id": "7v_ESjsspbW7"
      },
      "execution_count": null,
      "outputs": []
    },
    {
      "cell_type": "code",
      "source": [
        "#Ratio of canceled booking or not\n",
        "(hotel_df.groupby('is_canceled').size()/sum(hotel_df['is_canceled'].value_counts())*100).plot(kind='pie',\n",
        "                              figsize=(3,3),\n",
        "                              autopct=\"%1.1f%%\",\n",
        "                               startangle=180,\n",
        "                               shadow=True,\n",
        "                               labels=['0','1'],\n",
        "                               colors=['orange','green'],\n",
        "                               explode=[0,.1]\n",
        "                              )\n",
        "plt.title(\"Ratio Of Canceled Booking\")"
      ],
      "metadata": {
        "id": "-VE66_im9iDP"
      },
      "execution_count": null,
      "outputs": []
    },
    {
      "cell_type": "code",
      "source": [
        "# Ratio of repeated guest in hotel\n",
        "(hotel_df.groupby('is_repeated_guest').size()/sum(hotel_df['is_repeated_guest'].value_counts())*100).plot(kind='pie',\n",
        "                              figsize=(3,3),\n",
        "                               autopct=\"%1.1f%%\",\n",
        "                               startangle=360,\n",
        "                               shadow=True,\n",
        "                               colors=['orange','green'],\n",
        "                               explode=[0,.5]\n",
        "                              )\n",
        "plt.title(\"Ratio Of Repeated Guest\")"
      ],
      "metadata": {
        "id": "PCWFXE_p9iaG"
      },
      "execution_count": null,
      "outputs": []
    },
    {
      "cell_type": "code",
      "source": [
        "# Ratio of customer tyoe\n",
        "(hotel_df.groupby('customer_type').size()/sum(hotel_df['customer_type'].value_counts())*100).plot(kind='pie',\n",
        "                              figsize=(10,5),\n",
        "                               autopct=\"%0.2f%%\",\n",
        "                               startangle=270,\n",
        "                               shadow=False,\n",
        "                              colors=['blue','pink','orange','green'],\n",
        "                              explode=[0,.2,0,0]\n",
        "                             )\n",
        "plt.title(\"Ratio of Customer Type\")"
      ],
      "metadata": {
        "id": "WyokH2yr9i3d"
      },
      "execution_count": null,
      "outputs": []
    },
    {
      "cell_type": "markdown",
      "source": [
        "##### 1. Why did you pick the specific chart?"
      ],
      "metadata": {
        "id": "K5QZ13OEpz2H"
      }
    },
    {
      "cell_type": "markdown",
      "source": [
        "Answer Here.\n",
        "\n",
        "We know that -A pie chart is a graphical representation technique that displays data in a circular-shaped graph. It is a composite static chart that works best with few variables. Pie charts are often used to represent sample data—with data points belonging to a combination of different categories.\n",
        "This chart helps the find out the exact ratio or condition of hotel with different Analysis\n"
      ],
      "metadata": {
        "id": "XESiWehPqBRc"
      }
    },
    {
      "cell_type": "markdown",
      "source": [
        "##### 2. What is/are the insight(s) found from the chart?"
      ],
      "metadata": {
        "id": "lQ7QKXXCp7Bj"
      }
    },
    {
      "cell_type": "markdown",
      "source": [
        "Observation is -\n",
        "\n",
        "*  First Chart show that customer mostly vistited in hotel 61.1% then Resort is 39.9%\n",
        "*  Second Chart - 27.5% booking is cancelled and 72.5% is not cancelled\n",
        "\n",
        "*  Third Chart - 96.1% guset are not repated unless 3.9% guest are repeated\n",
        "*  Forth Chart- 82.33% Transient customer ,13.42% Transient party ,3.59%\n",
        "contract customer ,0.62% are group type customer visited inhotel .\n",
        "\n",
        "\n",
        "\n"
      ],
      "metadata": {
        "id": "C_j1G7yiqdRP"
      }
    },
    {
      "cell_type": "markdown",
      "source": [
        "##### 3. Will the gained insights help creating a positive business impact?\n",
        "Are there any insights that lead to negative growth? Justify with specific reason."
      ],
      "metadata": {
        "id": "448CDAPjqfQr"
      }
    },
    {
      "cell_type": "markdown",
      "source": [
        "we observe that sum categories are less invlove in hotel like group type of customer not visited in any type of hotel... we can do better thing that can not easily impact on our performances"
      ],
      "metadata": {
        "id": "3cspy4FjqxJW"
      }
    },
    {
      "cell_type": "markdown",
      "source": [
        "#### Chart - 2 Analysis of Most prefered hotel in yearly basis"
      ],
      "metadata": {
        "id": "KSlN3yHqYklG"
      }
    },
    {
      "cell_type": "code",
      "source": [
        "# Chart - 2 visualization code\n",
        "\n",
        "lst1=['hotel','arrival_date_year','arrival_date_month','arrival_date_day_of_month']\n",
        "period_arrival=hotel_df[lst1]\n",
        "sns.countplot(data= period_arrival , x=\"arrival_date_year\", hue = \"hotel\",)"
      ],
      "metadata": {
        "id": "R4YgtaqtYklH"
      },
      "execution_count": null,
      "outputs": []
    },
    {
      "cell_type": "markdown",
      "source": [
        "##### 1. Why did you pick the specific chart?"
      ],
      "metadata": {
        "id": "t6dVpIINYklI"
      }
    },
    {
      "cell_type": "markdown",
      "source": [
        "Answer Here\n",
        "\n",
        "Countplot() method is used to display the count of categorical observations in each bin in the dataset. A count plot resembles a histogram over a categorical variable as opposed to a quantitative one.\n",
        "This chart helps to find the yearly basis growth of city and resort ...."
      ],
      "metadata": {
        "id": "5aaW0BYyYklI"
      }
    },
    {
      "cell_type": "markdown",
      "source": [
        "##### 2. What is/are the insight(s) found from the chart?"
      ],
      "metadata": {
        "id": "ijmpgYnKYklI"
      }
    },
    {
      "cell_type": "markdown",
      "source": [
        "Observation of hotel .... we can see easily in 2016 both city and resort hotel are booked but 2015 both city and resort not properly booked or earn money\n",
        "in that year .\n",
        "one more thing we observe that campare to city and hotel...cites hotel are mostely prefered by coustomer that are increase according to our average daily rating  \n"
      ],
      "metadata": {
        "id": "PSx9atu2YklI"
      }
    },
    {
      "cell_type": "markdown",
      "source": [
        "#### Chart - 3 Analysis of top 10 country (univarient Data)"
      ],
      "metadata": {
        "id": "EM7whBJCYoAo"
      }
    },
    {
      "cell_type": "code",
      "source": [
        "# Chart - 3 Count plot\n",
        "plt.figure(figsize=(15,6))\n",
        "top10=hotel_df['country'].value_counts().iloc[:10].index\n",
        "sns.countplot(order=top10,x = hotel_df['country'])\n",
        "plt.xticks(rotation=90,fontsize=8)\n",
        "plt.title(\"top 10 countries traveling in hotel\")\n",
        "plt.show\n",
        "top10=pd.DataFrame(hotel_df['country'].value_counts().iloc[:10]).reset_index()\n",
        "print(top10)"
      ],
      "metadata": {
        "id": "t6GMdE67YoAp"
      },
      "execution_count": null,
      "outputs": []
    },
    {
      "cell_type": "markdown",
      "source": [
        "##### 1. Why did you pick the specific chart?"
      ],
      "metadata": {
        "id": "fge-S5ZAYoAp"
      }
    },
    {
      "cell_type": "markdown",
      "source": [
        "Answer Here.\n",
        "\n",
        "This chart helps to find the top 10 countries are vistied in hotel ....this chart count the values of every countries that are vistied in hotel.\n",
        "\n",
        "The country names seem to be in shortcodes but we are normally interested in the top 10 countries and we will then convert those country codes into their respective names.\n",
        "\n",
        "There are multiple bookings made from the same country and the above data is the representation of all."
      ],
      "metadata": {
        "id": "5dBItgRVYoAp"
      }
    },
    {
      "cell_type": "markdown",
      "source": [
        "##### 2. What is/are the insight(s) found from the chart?"
      ],
      "metadata": {
        "id": "85gYPyotYoAp"
      }
    },
    {
      "cell_type": "markdown",
      "source": [
        "Answer Here\n",
        "\n",
        "Observation -there are many countries that are booked hotel and resort many times , we using iloc method to find at least top 10 rows and display the index\n",
        "\n",
        " index  country\n",
        "\n",
        "0   PRT    27453\n",
        "\n",
        "1   GBR    10433\n",
        "\n",
        "2   FRA     8837\n",
        "\n",
        "3   ESP     7252\n",
        "\n",
        "4   DEU     5387\n",
        "\n",
        "5   ITA     3066\n",
        "\n",
        "6   IRL     3016\n",
        "\n",
        "7   BEL     2081\n",
        "\n",
        "8   BRA     1995\n",
        "\n",
        "9   NLD     1911\n",
        "\n",
        "IN this analysis prt country is most visited in hotel and resort ...TWe can identify the countries with the highest number of bookings using the value_counts method.\n",
        "This shows us the top 10 countries from where the bookings are made.\n",
        "\n",
        "PRT — Portugal, GBR — United Kingdom, FRA — France, ESP — Spain, DEU — Germany, ITA — Italy, IRL — Ireland, BEL — Belgium, BRA — Brazil, NLD — Netherlands."
      ],
      "metadata": {
        "id": "4jstXR6OYoAp"
      }
    },
    {
      "cell_type": "markdown",
      "source": [
        "##### 3. Will the gained insights help creating a positive business impact?\n",
        "Are there any insights that lead to negative growth? Justify with specific reason."
      ],
      "metadata": {
        "id": "RoGjAbkUYoAp"
      }
    },
    {
      "cell_type": "markdown",
      "source": [
        "Answer Here\n",
        "from the above visualiztion we analyzed the guest of prt country are most vistied in hotel that total values are 27453 and NLD guest are less that 1911 people come in hotel"
      ],
      "metadata": {
        "id": "zfJ8IqMcYoAp"
      }
    },
    {
      "cell_type": "markdown",
      "source": [
        "#### Chart - 4 Analysis of Market segment (univarient )"
      ],
      "metadata": {
        "id": "4Of9eVA-YrdM"
      }
    },
    {
      "cell_type": "code",
      "source": [
        "# Chart - 4 visualization code\n",
        "(hotel_df.groupby('market_segment').size()/sum(hotel_df['market_segment'].value_counts())*100).plot(kind='pie',\n",
        "                              figsize=(15,8),\n",
        "                               autopct=\"%0.2f%%\",\n",
        "                               startangle=360,\n",
        "                               shadow=False,\n",
        "                              explode=[0,.8,.2,0,0,0,0,0]\n",
        "                             )\n",
        "plt.title(\"Ratio of Market Segment \")\n",
        "market_segment=pd.DataFrame(hotel_df.groupby('hotel')['market_segment'].value_counts()).reset_index\n",
        "print(market_segment)"
      ],
      "metadata": {
        "id": "irlUoxc8YrdO"
      },
      "execution_count": null,
      "outputs": []
    },
    {
      "cell_type": "markdown",
      "source": [
        "##### 1. Why did you pick the specific chart?"
      ],
      "metadata": {
        "id": "iky9q4vBYrdO"
      }
    },
    {
      "cell_type": "markdown",
      "source": [
        "Answer Here.\n",
        "\n",
        "We chose to pie chart for find the ratio of market segment in hotel ...there are some market segment like -online , Offline TA/TO ,Direct ,Groups ,Corporate,Complementary ,avitation,Undefined\n",
        "\n",
        "this chart helps to find the which type of customer segment belongs mostly and what is the ratio highest ratio of segment"
      ],
      "metadata": {
        "id": "aJRCwT6DYrdO"
      }
    },
    {
      "cell_type": "markdown",
      "source": [
        "##### 2. What is/are the insight(s) found from the chart?"
      ],
      "metadata": {
        "id": "F6T5p64dYrdO"
      }
    },
    {
      "cell_type": "markdown",
      "source": [
        "Answer Here\n",
        "in this visualization firstly we dived the customer segment in city and hotel..we can see that customer from online TA sector that are 34994 in city and 16624 in resort ... mostly belongs in hotel\n",
        "unless Aviation sector customer belongs in hotel but not interested in resort . and some are undefined cutomer that are less interested in city type hotel"
      ],
      "metadata": {
        "id": "Xx8WAJvtYrdO"
      }
    },
    {
      "cell_type": "markdown",
      "source": [
        "##### 3. Will the gained insights help creating a positive business impact?\n",
        "Are there any insights that lead to negative growth? Justify with specific reason.\n"
      ],
      "metadata": {
        "id": "y-Ehk30pYrdP"
      }
    },
    {
      "cell_type": "markdown",
      "source": [
        "Answer Here\n",
        "In business purpose this is helpful, we find the most prefered sector of customers are interested in hotel ....and some other sector that are not intrested we can focus on particular sector   "
      ],
      "metadata": {
        "id": "jLNxxz7MYrdP"
      }
    },
    {
      "cell_type": "markdown",
      "source": [
        "#### Chart - 5 ( Most Reserved Room Type )"
      ],
      "metadata": {
        "id": "bamQiAODYuh1"
      }
    },
    {
      "cell_type": "code",
      "source": [
        "# Chart - 5 visualization code\n",
        "reserve_room_type_top5=hotel_df['reserved_room_type'].value_counts()\n",
        "x=reserve_room_type_top5.index\n",
        "y=reserve_room_type_top5.values\n",
        "df= (y/sum(y)*100)\n",
        "plt.figure(figsize=(15,5))\n",
        "sns.barplot(y=df ,x=x)\n",
        "plt.xticks(rotation=90,fontsize=8)\n",
        "plt.title(\"Top 5 Reserved Room  In Hotel\")\n",
        "plt.show\n",
        "reserve_room_type_top5=pd.DataFrame(hotel_df.groupby('hotel')['reserved_room_type'].value_counts().iloc[:10]).reset_index\n",
        "print(reserve_room_type_top5)"
      ],
      "metadata": {
        "id": "TIJwrbroYuh3"
      },
      "execution_count": null,
      "outputs": []
    },
    {
      "cell_type": "markdown",
      "source": [
        "##### 1. Why did you pick the specific chart?"
      ],
      "metadata": {
        "id": "QHF8YVU7Yuh3"
      }
    },
    {
      "cell_type": "markdown",
      "source": [
        "Answer Here.\n",
        "in this visualiztion we use bar chart becouse that shows most reserve room type . customer are most demanding room in hotel is A type of room that give some extra facility and average rate thats why A type room is most demanding room and bar chart easily show the highest prefered room type"
      ],
      "metadata": {
        "id": "dcxuIMRPYuh3"
      }
    },
    {
      "cell_type": "markdown",
      "source": [
        "##### 2. What is/are the insight(s) found from the chart?"
      ],
      "metadata": {
        "id": "GwzvFGzlYuh3"
      }
    },
    {
      "cell_type": "markdown",
      "source": [
        "Answer Here\n",
        "\n",
        "Above the visualization..we can see A type of room is most demanding room and H type of room is less demanding room by customer .... and we can see in the city type hotel ... are mostely demand A type of room by the coustomer is  37942 and 18412 something"
      ],
      "metadata": {
        "id": "uyqkiB8YYuh3"
      }
    },
    {
      "cell_type": "markdown",
      "source": [
        "##### 3. Will the gained insights help creating a positive business impact?\n",
        "Are there any insights that lead to negative growth? Justify with specific reason."
      ],
      "metadata": {
        "id": "qYpmQ266Yuh3"
      }
    },
    {
      "cell_type": "markdown",
      "source": [
        "Answer Here\n",
        "we can observe that h type room are less demanding room ...."
      ],
      "metadata": {
        "id": "_WtzZ_hCYuh4"
      }
    },
    {
      "cell_type": "markdown",
      "source": [
        "#### Chart - 6 Analysis of  Most prefered Deposite type in hotels"
      ],
      "metadata": {
        "id": "OH-pJp9IphqM"
      }
    },
    {
      "cell_type": "code",
      "source": [
        "# Chart - 6 visualization code\n",
        "gp=hotel_df.groupby(['deposit_type','hotel']).size().reset_index().pivot(columns='deposit_type', index='hotel',values=0)\n",
        "gp.plot(kind ='bar',stacked =True)\n",
        "hotel_df.groupby('hotel')['deposit_type'].value_counts()"
      ],
      "metadata": {
        "id": "kuRf4wtuphqN"
      },
      "execution_count": null,
      "outputs": []
    },
    {
      "cell_type": "markdown",
      "source": [
        "##### 1. Why did you pick the specific chart?\n"
      ],
      "metadata": {
        "id": "bbFf2-_FphqN"
      }
    },
    {
      "cell_type": "markdown",
      "source": [
        "Answer Here.\n",
        "in this visulaization we  use a PivotTable to summarize, analyze, explore, and present summary data. PivotCharts complement PivotTables by adding visualizations to the summary data in a PivotTable, and allow we to easily see comparisons, patterns, and trends.\n",
        "\n"
      ],
      "metadata": {
        "id": "loh7H2nzphqN"
      }
    },
    {
      "cell_type": "markdown",
      "source": [
        "##### 2. What is/are the insight(s) found from the chart?"
      ],
      "metadata": {
        "id": "_ouA3fa0phqN"
      }
    },
    {
      "cell_type": "markdown",
      "source": [
        ":Answer Here\n",
        "\n",
        "IN the above visualization we can compare the most prefered deposite type ... there are many modes of deposite some are cash deposite , online deposite but in that process some are not deposite money that are use for insurance type , some are not refoundable money ,some deposites are refoundable on departure time.... we can see that no deposite type(refundable or insurance type) are mostely used that means cash deposite are most used in hotels   "
      ],
      "metadata": {
        "id": "VECbqPI7phqN"
      }
    },
    {
      "cell_type": "markdown",
      "source": [
        "##### 3. Will the gained insights help creating a positive business impact?\n",
        "Are there any insights that lead to negative growth? Justify with specific reason."
      ],
      "metadata": {
        "id": "Seke61FWphqN"
      }
    },
    {
      "cell_type": "markdown",
      "source": [
        "Answer Here\n",
        "\n",
        "In Business Analysis , these are major thing when customer book the hotel and use the deposite method ...where coustomer wants to easily money are refoundable or deposite in cash in hand ... we can see that in both hotel customer less prefered the refoundable type ..."
      ],
      "metadata": {
        "id": "DW4_bGpfphqN"
      }
    },
    {
      "cell_type": "markdown",
      "source": [
        "#### Chart - 7 Analysis of Most prefered Meal(Food ,dinner ,Breakfast ) in hotel"
      ],
      "metadata": {
        "id": "PIIx-8_IphqN"
      }
    },
    {
      "cell_type": "code",
      "source": [
        "# Chart - 7 visualization code\n",
        "plt.figure(figsize=(10,6))\n",
        "top10=hotel_df['meal'].value_counts().iloc[:20].index\n",
        "sns.countplot(order=top10,x = hotel_df['meal'])\n",
        "plt.xticks(rotation=90,fontsize=8)\n",
        "plt.title('Top 5 Prefered Meal In Hotel')\n",
        "plt.show\n",
        "hotel_df['meal'].value_counts()\n"
      ],
      "metadata": {
        "id": "lqAIGUfyphqO"
      },
      "execution_count": null,
      "outputs": []
    },
    {
      "cell_type": "markdown",
      "source": [
        "##### 1. Why did you pick the specific chart?\n"
      ],
      "metadata": {
        "id": "t27r6nlMphqO"
      }
    },
    {
      "cell_type": "markdown",
      "source": [
        "Answer Here.\n",
        "We choose the bar chart for analyze the most demanding meal in hotel .... this chart can easily visualize which type of meal are highest demanding in hotel  "
      ],
      "metadata": {
        "id": "iv6ro40sphqO"
      }
    },
    {
      "cell_type": "markdown",
      "source": [
        "##### 2. What is/are the insight(s) found from the chart?"
      ],
      "metadata": {
        "id": "r2jJGEOYphqO"
      }
    },
    {
      "cell_type": "markdown",
      "source": [
        "Answer Here\n",
        "\n",
        "A meal plan is a plan that is added to a room rate for providing a room and meals to guests at a hotel. It is very important for travelers to select a meal plan after checking the room rate. Most of the time, travelers compare different room rates without looking at meal plan. Selecting a meal plan after checking the room rate is very important for travelers... so That our analysis showing the most prefered meal is BB"
      ],
      "metadata": {
        "id": "Po6ZPi4hphqO"
      }
    },
    {
      "cell_type": "markdown",
      "source": [
        "##### 3. Will the gained insights help creating a positive business impact?\n",
        "Are there any insights that lead to negative growth? Justify with specific reason."
      ],
      "metadata": {
        "id": "b0JNsNcRphqO"
      }
    },
    {
      "cell_type": "markdown",
      "source": [
        "Answer Here\n",
        "\n",
        "This Analysis helps to represent the most demanding meal in hotels ...some meal type are not needed for hotel as per customer choice we focus on that are demanding meal"
      ],
      "metadata": {
        "id": "xvSq8iUTphqO"
      }
    },
    {
      "cell_type": "markdown",
      "source": [
        "#### Chart - 8 Analysis on Top performing Agent in hotel"
      ],
      "metadata": {
        "id": "BZR9WyysphqO"
      }
    },
    {
      "cell_type": "code",
      "source": [
        "# Chart - 8 visualization code\n",
        "plt.figure(figsize=(15,10))\n",
        "agent=hotel_df['agent'].value_counts().iloc[:10].index\n",
        "sns.countplot(order=agent,x=hotel_df['agent'],data=hotel_df)\n",
        "plt.xticks(rotation=90,fontsize=8)\n",
        "plt.title(\"Top Performing Agent \")\n",
        "plt.show\n"
      ],
      "metadata": {
        "id": "TdPTWpAVphqO"
      },
      "execution_count": null,
      "outputs": []
    },
    {
      "cell_type": "markdown",
      "source": [
        "##### 1. Why did you pick the specific chart?"
      ],
      "metadata": {
        "id": "jj7wYXLtphqO"
      }
    },
    {
      "cell_type": "markdown",
      "source": [
        "Answer Here.\n",
        "\n",
        "This countplot chart helps to count the numerical values and categorical value that count plot divided in x and y axis ...here x axis represt the top most agent that is booked hotel ...they are promot the hotel .....customer come through the agent"
      ],
      "metadata": {
        "id": "Ob8u6rCTphqO"
      }
    },
    {
      "cell_type": "markdown",
      "source": [
        "##### 2. What is/are the insight(s) found from the chart?"
      ],
      "metadata": {
        "id": "eZrbJ2SmphqO"
      }
    },
    {
      "cell_type": "markdown",
      "source": [
        "Answer Here\n",
        "\n",
        "In the above visualiztion ....coustomers are come through the agent 9.... he /she is the top performing agent in hotel after that agent 240 is second one in performance of customer dealing"
      ],
      "metadata": {
        "id": "mZtgC_hjphqO"
      }
    },
    {
      "cell_type": "markdown",
      "source": [
        "#### Chart - 9 Analysis of customer choice most prefered city or resort"
      ],
      "metadata": {
        "id": "YJ55k-q6phqO"
      }
    },
    {
      "cell_type": "code",
      "source": [
        "# Chart - 9 visualization code\n",
        "plt.figure(figsize = (15,10))\n",
        "sns.boxplot(x = \"market_segment\", y = \"stays_in_week_nights\", data = hotel_df, hue = \"hotel\", palette = 'Set1')"
      ],
      "metadata": {
        "id": "B2aS4O1ophqO"
      },
      "execution_count": null,
      "outputs": []
    },
    {
      "cell_type": "code",
      "source": [
        "plt.figure(figsize=(15,10))\n",
        "sns.boxplot(x = \"market_segment\", y = \"stays_in_weekend_nights\", data = hotel_df, hue = \"hotel\", palette = 'Set1');\n"
      ],
      "metadata": {
        "id": "9cy4GlV2kfjC"
      },
      "execution_count": null,
      "outputs": []
    },
    {
      "cell_type": "markdown",
      "source": [
        "##### 1. Why did you pick the specific chart?"
      ],
      "metadata": {
        "id": "gCFgpxoyphqP"
      }
    },
    {
      "cell_type": "markdown",
      "source": [
        "Answer Here.\n",
        "\n",
        "We know that Box plots are used to show distributions of numeric data values, especially when you want to compare them between multiple groups. we can easily analyze the market segment in both city hotel and resort hotel with the help of weekend and week night stay in there ."
      ],
      "metadata": {
        "id": "TVxDimi2phqP"
      }
    },
    {
      "cell_type": "markdown",
      "source": [
        "##### 2. What is/are the insight(s) found from the chart?"
      ],
      "metadata": {
        "id": "OVtJsKN_phqQ"
      }
    },
    {
      "cell_type": "markdown",
      "source": [
        "Answer Here\n",
        "We will check this on weekdays and weekends separately, because we might see a skew distribution here. First let’s plot the boxplot market segment wise and we will first check for the week nights stay. The market segment will tell us what type of stay is it.\n",
        "It can be seen that most of the groups are normally distributed, some of them have high skewness. Looking at the distribution, it can be concluded that most people do not seem to prefer to stay at the hotel for more than 1 week. But it seems normal to stay in resort hotels for up to 12–13 days. Although this changes according to the segments, staying longer than 15 days certainly creates outliers for each segment. If the total time feature was created by summing up the weekend and week nights, this would be clearer, but it can be clearly seen when looking at the two visualizations together.\n",
        "\n",
        "\n"
      ],
      "metadata": {
        "id": "ngGi97qjphqQ"
      }
    },
    {
      "cell_type": "markdown",
      "source": [
        "##### 3. Will the gained insights help creating a positive business impact?\n",
        "Are there any insights that lead to negative growth? Justify with specific reason."
      ],
      "metadata": {
        "id": "lssrdh5qphqQ"
      }
    },
    {
      "cell_type": "markdown",
      "source": [
        "Answer Here\n",
        "\n",
        "It is obvious that when people go to resort hotels, they prefer to stay more.\n",
        "\n"
      ],
      "metadata": {
        "id": "tBpY5ekJphqQ"
      }
    },
    {
      "cell_type": "markdown",
      "source": [
        "\n",
        "#### Chart - 10 Analysis of most Reserve or Booked hotel  "
      ],
      "metadata": {
        "id": "U2RJ9gkRphqQ"
      }
    },
    {
      "cell_type": "code",
      "source": [
        "# Chart - 10 visualization code\n",
        "waiting_list_df=hotel_df.groupby('hotel')['days_in_waiting_list'].agg(np.mean).reset_index().rename(columns={'days_in_waiting_list':'waiting_time'})\n",
        "print(waiting_list_df)\n",
        "plt.figure(figsize=(8,5))\n",
        "sns.barplot(x=waiting_list_df['hotel'],y=waiting_list_df['waiting_time'])\n",
        "plt.xticks(rotation =90, fontsize=8)\n",
        "plt.title(\"waiting list for each hotel \")\n",
        "plt.show\n"
      ],
      "metadata": {
        "id": "GM7a4YP4phqQ"
      },
      "execution_count": null,
      "outputs": []
    },
    {
      "cell_type": "markdown",
      "source": [
        "##### 1. Why did you pick the specific chart?"
      ],
      "metadata": {
        "id": "1M8mcRywphqQ"
      }
    },
    {
      "cell_type": "markdown",
      "source": [
        "Answer Here.\n",
        "our Analysis wants to check waitlisted reservation in city and resort hotel by this countplt we can see that which type of hotel are most full booked and how many waiting list are pending"
      ],
      "metadata": {
        "id": "8agQvks0phqQ"
      }
    },
    {
      "cell_type": "markdown",
      "source": [
        "##### 2. What is/are the insight(s) found from the chart?"
      ],
      "metadata": {
        "id": "tgIPom80phqQ"
      }
    },
    {
      "cell_type": "markdown",
      "source": [
        "Answer Here\n",
        " In this visualization we can see city hotel are full booked or most demanding hotel beacuse customer wants to reserve the city hotel room on some specific date but these hotels are already booke"
      ],
      "metadata": {
        "id": "Qp13pnNzphqQ"
      }
    },
    {
      "cell_type": "markdown",
      "source": [
        "##### 3. Will the gained insights help creating a positive business impact?\n",
        "Are there any insights that lead to negative growth? Justify with specific reason."
      ],
      "metadata": {
        "id": "JMzcOPDDphqR"
      }
    },
    {
      "cell_type": "markdown",
      "source": [
        "Answer Here\n",
        " In the business term we can see city hotel are mostly used and  a list of people who have asked for something that is not immediately available but will be in the future."
      ],
      "metadata": {
        "id": "R4Ka1PC2phqR"
      }
    },
    {
      "cell_type": "markdown",
      "source": [
        "#### Chart - 11 Analysis of yearly basis Average Daily Rating"
      ],
      "metadata": {
        "id": "x-EpHcCOp1ci"
      }
    },
    {
      "cell_type": "code",
      "source": [
        "# Chart - 11 visualization code\n",
        "average_adr_df=hotel_df.groupby('hotel')['adr'].agg(np.mean).reset_index().rename(columns={'adr':'average_adr'})\n",
        "print(average_adr_df)\n",
        "plt.figure(figsize=(8,5))\n",
        "sns.barplot(x=average_adr_df['hotel'],y=average_adr_df['average_adr'])\n",
        "plt.xticks(rotation =90, fontsize=8)\n",
        "plt.title(\"Average adr of each hotel \")\n",
        "plt.show\n"
      ],
      "metadata": {
        "id": "mAQTIvtqp1cj"
      },
      "execution_count": null,
      "outputs": []
    },
    {
      "cell_type": "code",
      "source": [
        "# Analysis of each hotel adr on yearly basis\n",
        "each_hotel_adr_df=hotel_df.groupby(['hotel','arrival_date_year'])['adr'].sum().reset_index()\n",
        "print(each_hotel_adr_df)\n",
        "plt.figure(figsize=(8,5))\n",
        "sns.barplot(data=each_hotel_adr_df,x=each_hotel_adr_df['arrival_date_year'],y=each_hotel_adr_df['adr'],hue=each_hotel_adr_df['hotel'])\n",
        "plt.xticks(rotation =90, fontsize=8)\n",
        "plt.title(\"average of each hotel adr \")\n",
        "plt.show\n"
      ],
      "metadata": {
        "id": "DF9zTwLwPZud"
      },
      "execution_count": null,
      "outputs": []
    },
    {
      "cell_type": "markdown",
      "source": [
        "##### 2. What is/are the insight(s) found from the chart?"
      ],
      "metadata": {
        "id": "_VYzDrOnp8AR"
      }
    },
    {
      "cell_type": "markdown",
      "source": [
        "Answer here .\n",
        "Above visualization shows  the total average of adr in city and resort is City Hotel   105.304465, Resort Hotel    94.952930 ....and we observe that in 2016 adr rate is high in city hotel and resort hotel"
      ],
      "metadata": {
        "id": "uHzDllINqGda"
      }
    },
    {
      "cell_type": "markdown",
      "source": [
        "#### Chart - 12 Analysis of Adr on monthly basis and according to weekwise"
      ],
      "metadata": {
        "id": "n3dbpmDWp1ck"
      }
    },
    {
      "cell_type": "code",
      "source": [
        "# Chart - 12 visualization code\n",
        "#Analysis on arrival date month basis\n",
        "average_arrival_date_month_basis=hotel_df.groupby('arrival_date_month',as_index=False)['adr'].mean()\n",
        "plt.figure(figsize=(18,5))\n",
        "sns.barplot(data=average_arrival_date_month_basis,x='arrival_date_month',y='adr')\n",
        "plt.title('average ard on arrival_date_month basis')\n",
        "plt.show\n",
        "print(average_arrival_date_month_basis.sort_values(by='adr',ascending=False))"
      ],
      "metadata": {
        "id": "6cFCk5JuTVAt"
      },
      "execution_count": null,
      "outputs": []
    },
    {
      "cell_type": "code",
      "source": [
        "# Analysis of adr on arrival date week basesis\n",
        "average_arrival_date_week_number_basis=hotel_df.groupby('arrival_date_week_number',as_index=False)['adr'].mean()\n",
        "plt.figure(figsize=(18,5))\n",
        "sns.barplot(data=average_arrival_date_week_number_basis,x='arrival_date_week_number',y='adr')\n",
        "plt.title('average ard on arrival_date_week_number basis')\n",
        "plt.show\n",
        "print(average_arrival_date_week_number_basis.sort_values(by='adr',ascending=False))"
      ],
      "metadata": {
        "id": "bwevp1tKp1ck"
      },
      "execution_count": null,
      "outputs": []
    },
    {
      "cell_type": "markdown",
      "source": [
        "##### 1. What is/are the insight(s) found from the chart?"
      ],
      "metadata": {
        "id": "ZWILFDl5p1ck"
      }
    },
    {
      "cell_type": "markdown",
      "source": [
        "*Answer* Here.\n",
        "We know that ADR stands for average daily rate, and it's used to measure the average revenue that a hotel receives for each occupied guest room per day. By measuring the ADR for your property, you're able to see the average rate that comes from all occupied rooms. A hotel’s ADR includes discounted rates, group rates, best available rates, and all other price points per night\n",
        "\n",
        "It acts as an indicator of the hotel's overall performance and profits. ADR helps hotel owners determine the average rate of the rooms sold over a specific period of time...... we can check the performance om weekely and monthly in Adr rating high or low ....\n",
        "observation -in august adr profit is high and betwee  33 week and  34 week adr rating is high"
      ],
      "metadata": {
        "id": "x-lUsV2mp1ck"
      }
    },
    {
      "cell_type": "markdown",
      "source": [
        "##### 3. Will the gained insights help creating a positive business impact?\n",
        "Are there any insights that lead to negative growth? Justify with specific reason."
      ],
      "metadata": {
        "id": "M7G43BXep1ck"
      }
    },
    {
      "cell_type": "markdown",
      "source": [
        "Answer Here\n",
        "In terms of business , all the hotel depends on ADR ...that can define the profit and ADR helps hotel owners determine the average rate of the rooms sold over a specific period of time and we observe that in week 1,2 and 53 week are very low adr rating and in  month of junuary , november are very low adr rating"
      ],
      "metadata": {
        "id": "5wwDJXsLp1cl"
      }
    },
    {
      "cell_type": "markdown",
      "source": [
        "#### Chart - 13 Analysis of ADR on country basis and total people basis"
      ],
      "metadata": {
        "id": "Ag9LCva-p1cl"
      }
    },
    {
      "cell_type": "code",
      "source": [
        "# Chart - 13 visualization code\n",
        "average_country_basis=hotel_df.groupby('country',as_index=False)['adr'].mean()\n",
        "plt.figure(figsize=(18,5))\n",
        "sns.barplot(data=average_country_basis,x=average_country_basis['country'][:10],y=average_country_basis['adr'])\n",
        "plt.title('average adr on country basis')\n",
        "plt.show\n",
        "average_country_basis.sort_values(by='adr',ascending=False,inplace=True)\n",
        "print(average_country_basis)\n"
      ],
      "metadata": {
        "id": "EUfxeq9-p1cl"
      },
      "execution_count": null,
      "outputs": []
    },
    {
      "cell_type": "code",
      "source": [
        "average_total_people_basis=hotel_df.groupby(hotel_df['total_people'],as_index=False)['adr'].mean()\n",
        "plt.figure(figsize=(18,5))\n",
        "sns.barplot(data=average_total_people_basis,x=average_total_people_basis['total_people'][:10],y=average_total_people_basis['adr'])\n",
        "plt.title('average adr on total_people basis')\n",
        "plt.show\n",
        "average_total_people_basis.sort_values(by='adr',ascending=False,inplace=True)\n",
        "print(average_total_people_basis)\n"
      ],
      "metadata": {
        "id": "oyVOqgDkvTJr"
      },
      "execution_count": null,
      "outputs": []
    },
    {
      "cell_type": "markdown",
      "source": [
        "##### 1. Why did you pick the specific chart?"
      ],
      "metadata": {
        "id": "E6MkPsBcp1cl"
      }
    },
    {
      "cell_type": "markdown",
      "source": [
        "Answer Here."
      ],
      "metadata": {
        "id": "V22bRsFWp1cl"
      }
    },
    {
      "cell_type": "markdown",
      "source": [
        "##### 2. What is/are the insight(s) found from the chart?"
      ],
      "metadata": {
        "id": "2cELzS2fp1cl"
      }
    },
    {
      "cell_type": "markdown",
      "source": [
        "Answer Here\n",
        "observation -\n",
        "\n",
        "*  we can see ADR  profit is different in different countries like AIA is 265\n",
        "*  in the term of total people highest rating is 212 in 5 people\n",
        "\n"
      ],
      "metadata": {
        "id": "ozQPc2_Ip1cl"
      }
    },
    {
      "cell_type": "markdown",
      "source": [
        "##### 3. Will the gained insights help creating a positive business impact?\n",
        "Are there any insights that lead to negative growth? Justify with specific reason."
      ],
      "metadata": {
        "id": "3MPXvC8up1cl"
      }
    },
    {
      "cell_type": "markdown",
      "source": [
        "Answer Here"
      ],
      "metadata": {
        "id": "GL8l1tdLp1cl"
      }
    },
    {
      "cell_type": "markdown",
      "source": [
        "#### Chart - 14 - Correlation Heatmap"
      ],
      "metadata": {
        "id": "NC_X3p0fY2L0"
      }
    },
    {
      "cell_type": "code",
      "source": [
        "# Correlation Heatmap visualization code\n",
        "plt.figure(figsize=(12,10))\n",
        "lst_df=hotel_df[['lead_time','previous_cancellations','previous_bookings_not_canceled','booking_changes','days_in_waiting_list','adr','required_car_parking_spaces','total_of_special_requests','is_canceled']]\n",
        "sns.heatmap(data=lst_df.corr(),annot=True)\n",
        "plt.title(\"correlation of hotel booking\")\n",
        "plt.show"
      ],
      "metadata": {
        "id": "xyC9zolEZNRQ"
      },
      "execution_count": null,
      "outputs": []
    },
    {
      "cell_type": "markdown",
      "source": [
        "##### 1. Why did you pick the specific chart?"
      ],
      "metadata": {
        "id": "UV0SzAkaZNRQ"
      }
    },
    {
      "cell_type": "markdown",
      "source": [
        "Answer Here.\n",
        "We know that  heatmap is a graphical representation of data in two-dimension, using colors to demonstrate different factors. Heatmaps are a helpful visual aid for a viewer, enabling the quick dissemination of statistical or data-driven information....\n",
        "\n",
        "A corrrelation value of 1 indicates a perfect positive correlation .\n",
        "\n",
        "A correlation value of -1 indicates a perfect negative correlation .\n",
        "\n",
        "A correlation value of 0 indicates no linear correlation"
      ],
      "metadata": {
        "id": "DVPuT8LYZNRQ"
      }
    },
    {
      "cell_type": "markdown",
      "source": [
        "##### 2. What is/are the insight(s) found from the chart?"
      ],
      "metadata": {
        "id": "YPEH6qLeZNRQ"
      }
    },
    {
      "cell_type": "markdown",
      "source": [
        "Answer Here\n",
        " We observe that in above visualization ....lead time and booking changes have a positive correlation overall heatmap are relatively week with coefficient close to zero"
      ],
      "metadata": {
        "id": "bfSqtnDqZNRR"
      }
    },
    {
      "cell_type": "markdown",
      "source": [
        "#### Chart - 15 - Pair Plot"
      ],
      "metadata": {
        "id": "q29F0dvdveiT"
      }
    },
    {
      "cell_type": "code",
      "source": [
        "# Pair Plot visualization code\n",
        "final_data=sns.pairplot(lst_df,hue='previous_cancellations',palette='Set2')"
      ],
      "metadata": {
        "id": "o58-TEIhveiU"
      },
      "execution_count": null,
      "outputs": []
    },
    {
      "cell_type": "markdown",
      "source": [
        "##### 1. Why did you pick the specific chart?"
      ],
      "metadata": {
        "id": "EXh0U9oCveiU"
      }
    },
    {
      "cell_type": "markdown",
      "source": [
        "Answer Here.\n",
        "\n",
        "WE choose Pairplot because it visualizes given data to find the relationship between them where the variables can be continuous or categorical. A pair plot also known as a scatterplot matrix its exactly same as heatmap"
      ],
      "metadata": {
        "id": "eMmPjTByveiU"
      }
    },
    {
      "cell_type": "markdown",
      "source": [
        "##### 2. What is/are the insight(s) found from the chart?"
      ],
      "metadata": {
        "id": "22aHeOlLveiV"
      }
    },
    {
      "cell_type": "markdown",
      "source": [
        "Answer Here\n",
        "\n",
        "WE see that the variablesin in the dataset have a week or no linear relationship with each other ... there are no clear pattern or strong relations between the variables."
      ],
      "metadata": {
        "id": "uPQ8RGwHveiV"
      }
    },
    {
      "cell_type": "markdown",
      "source": [
        "## **5. Solution to Business Objective**"
      ],
      "metadata": {
        "id": "JcMwzZxoAimU"
      }
    },
    {
      "cell_type": "markdown",
      "source": [
        "#### What do you suggest the client to achieve Business Objective ?\n",
        "Explain Briefly."
      ],
      "metadata": {
        "id": "8G2x9gOozGDZ"
      }
    },
    {
      "cell_type": "markdown",
      "source": [
        "Answer Here.\n",
        "\n",
        "Based on the our Analysis ...some suggestion are required for business objectives ◾\n",
        "\n",
        "\n",
        "* first thing is cancellation term or policies - we need to implement strick rules and regulations ..for online mode ..when booking is confiremed then apply the booking commessions\n",
        "* Deposite type --we see that main reason of booking cancellation is non refoundable plices set the proper rules and plicies for different deposite type\n",
        "\n",
        "* Monthly ...booking are affected in month of November and December ..we offer the seasonal discount , advertising your hotel facilites and etc\n",
        "\n",
        "*  ADR for resort we observe that rating is very less of resort we give some special faicity like hotel and discount offer\n",
        "\n",
        " By implementing some other things like market segment , ADR rating , Booking and cancellation ratio during seasonal and peak time\n",
        "\n",
        "\n",
        "\n",
        "\n",
        "\n",
        "\n",
        "\n",
        "\n",
        "\n"
      ],
      "metadata": {
        "id": "pASKb0qOza21"
      }
    },
    {
      "cell_type": "markdown",
      "source": [
        "## **Conclustion**"
      ],
      "metadata": {
        "id": "rYXHBG3XA4dL"
      }
    },
    {
      "cell_type": "markdown",
      "source": [
        "while develpoing this EDA project We have larnt a lot about Hotel booking ... we observe that there are so many thing that we can implement our bussiness... in this Analysis there are lots of positive thing like ..\n",
        "\n",
        "the majority of marketsegment is high\n",
        "\n",
        "August is the busiest month for booking\n",
        "\n",
        "there are correlation  between laed time and cancellation of booking .  \n",
        "\n",
        "city hotel is most demanding hotel compare to resort\n",
        "\n",
        "ADR are higher average in total people of 4 ad 5\n",
        "\n",
        " By implementing these recommendation , the hotel can improve its occupancy rates , increase revenue and anaysis of data trends will also help in adapting strategies to meet changing market demands and business objective"
      ],
      "metadata": {
        "id": "jf6d-PW5BcMK"
      }
    }
  ]
}